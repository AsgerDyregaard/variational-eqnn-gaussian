{
 "cells": [
  {
   "attachments": {},
   "cell_type": "markdown",
   "metadata": {},
   "source": [
    "#### Calculation of results\n",
    "Using the function `eval_model.py`, the estimates and variances of each energy value in the test sets are evaluated.\n",
    "An example is given below. Note that loading the dataset may close to an hour."
   ]
  },
  {
   "cell_type": "code",
   "execution_count": null,
   "metadata": {},
   "outputs": [],
   "source": [
    "# Test of model trained om PC9 dataset and the energy measurement E, tested on PC9 test set.\n",
    "!python3 scripts/eval_model.py --load_model models/PC9_E/model_output_pt4/exit_model.pth --load_model_args models/PC9_E/model_output_pt4/arguments.json --dataset data/pc9.db --split_file models/PC9_E/model_output_pt4/datasplits.json --output_dir tests/PC9_E"
   ]
  },
  {
   "cell_type": "code",
   "execution_count": null,
   "metadata": {},
   "outputs": [],
   "source": [
    "# Test of model trained om PC9 dataset and the energy measurement E, tested on PC9 test set.\n",
    "!python3 scripts/eval_model.py --load_model models/PC9_E/model_output_pt4/exit_model.pth --load_model_args models/PC9_E/model_output_pt4/arguments.json --dataset data/pc9_test.db --split_file runs/model_output/datasplits.json --output_dir tests/temp --sample_size 10"
   ]
  },
  {
   "attachments": {},
   "cell_type": "markdown",
   "metadata": {},
   "source": [
    "#### Visualisation of the evaluation of E on PC9 test set\n",
    "The result for the model trained on the energy measurement E on the dataset PC9 are visualised."
   ]
  },
  {
   "cell_type": "code",
   "execution_count": 203,
   "metadata": {},
   "outputs": [
    {
     "name": "stdout",
     "output_type": "stream",
     "text": [
      "MAE of PC9_E errors:\n",
      "tensor(0.0177)\n",
      "RMSE of PC9_E errors:\n",
      "tensor(0.0462)\n",
      "Max AE:\n",
      "tensor(1.5203)\n",
      "99% quantile of errors:\n",
      "tensor(0.1595)\n"
     ]
    }
   ],
   "source": [
    "import torch\n",
    "import numpy as np\n",
    "PC9_E_test = torch.load(\"tests/PC9_E/res.pt\")\n",
    "PC9_E_res = PC9_E_test[\"values\"]\n",
    "PC9_E_errors = PC9_E_res[:,0] - PC9_E_res[:,2]\n",
    "PC9_E_AE = PC9_E_errors.abs()\n",
    "print(\"MAE of PC9_E errors:\")\n",
    "print(PC9_E_AE.mean())\n",
    "print(\"RMSE of PC9_E errors:\")\n",
    "print(PC9_E_errors.pow(2).mean().sqrt())\n",
    "print(\"Max AE:\")\n",
    "print(PC9_E_AE.max())\n",
    "print(\"99% quantile of errors:\")\n",
    "print(torch.quantile(PC9_E_AE,0.99))\n",
    "\n",
    "# Correlation between errors and estimated variances?"
   ]
  },
  {
   "cell_type": "code",
   "execution_count": 206,
   "metadata": {},
   "outputs": [
    {
     "name": "stdout",
     "output_type": "stream",
     "text": [
      "tensor(0.5622)\n"
     ]
    }
   ],
   "source": [
    "print(torch.quantile(PC9_E_AE,0.999))"
   ]
  },
  {
   "cell_type": "code",
   "execution_count": 217,
   "metadata": {},
   "outputs": [
    {
     "data": {
      "text/plain": [
       "{tensor(20597111, dtype=torch.int32): tensor(1.1322),\n",
       " tensor(59938748, dtype=torch.int32): tensor(1.2999),\n",
       " tensor(53630482, dtype=torch.int32): tensor(1.5203)}"
      ]
     },
     "execution_count": 217,
     "metadata": {},
     "output_type": "execute_result"
    }
   ],
   "source": [
    "# The errors above the 99.9% percentile are found.\n",
    "list_of_molecules_PC9_E = {}\n",
    "#quant = torch.quantile(PC9_E_AE,0.999)\n",
    "for index, error in zip(PC9_E_test[\"index\"],PC9_E_AE):\n",
    "    if error > 1:\n",
    "        list_of_molecules_PC9_E[index] = error\n",
    "\n",
    "list_of_molecules_PC9_E"
   ]
  },
  {
   "attachments": {},
   "cell_type": "markdown",
   "metadata": {},
   "source": [
    "These chemicals are `O1OOO1`, `[CH2]C[C@@H]1CC[C@H](CC1)[CH2]`, and `[CH2]C(=C)[N][C][N]C(=C)[CH2]`."
   ]
  },
  {
   "attachments": {},
   "cell_type": "markdown",
   "metadata": {},
   "source": [
    "#### Analysis of E on QM9 test set\n",
    "Results from training to predict E on the QM9 on the training set, tested on the test set."
   ]
  },
  {
   "cell_type": "code",
   "execution_count": 97,
   "metadata": {},
   "outputs": [
    {
     "name": "stdout",
     "output_type": "stream",
     "text": [
      "MAE of QM9_E errors:\n",
      "tensor(0.0096)\n",
      "RMSE of QM9_E errors:\n",
      "tensor(0.0352)\n",
      "Max AE:\n",
      "tensor(2.3487)\n",
      "99% quantile of errors:\n",
      "tensor(0.0498)\n"
     ]
    }
   ],
   "source": [
    "QM9_E_test = torch.load(\"tests/QM9_E/res.pt\")\n",
    "QM9_E_res = QM9_E_test[\"values\"]\n",
    "QM9_E_errors = QM9_E_res[:,0] - QM9_E_res[:,2]\n",
    "QM9_E_AE = QM9_E_errors.abs()\n",
    "print(\"MAE of QM9_E errors:\")\n",
    "print(QM9_E_AE.mean())\n",
    "print(\"RMSE of QM9_E errors:\")\n",
    "print(QM9_E_errors.pow(2).mean().sqrt())\n",
    "print(\"Max AE:\")\n",
    "print(QM9_E_AE.max())\n",
    "print(\"99% quantile of errors:\")\n",
    "print(torch.quantile(QM9_E_AE,0.99))"
   ]
  },
  {
   "cell_type": "code",
   "execution_count": 216,
   "metadata": {},
   "outputs": [
    {
     "data": {
      "text/plain": [
       "{tensor(129158, dtype=torch.int32): tensor(2.1235),\n",
       " tensor(56016, dtype=torch.int32): tensor(1.0764),\n",
       " tensor(102794, dtype=torch.int32): tensor(2.3487)}"
      ]
     },
     "execution_count": 216,
     "metadata": {},
     "output_type": "execute_result"
    }
   ],
   "source": [
    "# The errors above the 99.9% percentile are found.\n",
    "list_of_molecules_QM9_E = {}\n",
    "#quant = torch.quantile(QM9_E_AE,0.999)\n",
    "for index, error in zip(QM9_E_test[\"index\"],QM9_E_AE):\n",
    "    if error > 1:\n",
    "        list_of_molecules_QM9_E[index] = error\n",
    "\n",
    "list_of_molecules_QM9_E"
   ]
  },
  {
   "attachments": {},
   "cell_type": "markdown",
   "metadata": {},
   "source": [
    "These molecules are `N=C1N=NON=NC1=O`, `[O-]C(=O)CN1CC[NH+]=C1`, and `[NH3+]CC(NC=O)C([O-])=O`."
   ]
  },
  {
   "attachments": {},
   "cell_type": "markdown",
   "metadata": {},
   "source": [
    "#### Analysis of U0 on QM9 test set\n",
    "Results from training to predict E on the QM9 on the training set, tested on the test set."
   ]
  },
  {
   "cell_type": "code",
   "execution_count": 99,
   "metadata": {},
   "outputs": [
    {
     "name": "stdout",
     "output_type": "stream",
     "text": [
      "MAE of QM9_U0 errors:\n",
      "tensor(0.0092)\n",
      "RMSE of QM9_U0 errors:\n",
      "tensor(0.0237)\n",
      "Max AE:\n",
      "tensor(1.0734)\n",
      "99% quantile of errors:\n",
      "tensor(0.0461)\n"
     ]
    }
   ],
   "source": [
    "QM9_U0_test = torch.load(\"tests/QM9_U0/res.pt\")\n",
    "QM9_U0_res = QM9_U0_test[\"values\"]\n",
    "QM9_U0_errors = QM9_U0_res[:,0] - QM9_U0_res[:,2]\n",
    "QM9_U0_AE = QM9_U0_errors.abs()\n",
    "print(\"MAE of QM9_U0 errors:\")\n",
    "print(QM9_U0_AE.mean())\n",
    "print(\"RMSE of QM9_U0 errors:\")\n",
    "print(QM9_U0_errors.pow(2).mean().sqrt())\n",
    "print(\"Max AE:\")\n",
    "print(QM9_U0_AE.max())\n",
    "print(\"99% quantile of errors:\")\n",
    "print(torch.quantile(QM9_U0_AE,0.99))"
   ]
  },
  {
   "cell_type": "code",
   "execution_count": 215,
   "metadata": {},
   "outputs": [
    {
     "data": {
      "text/plain": [
       "{tensor(37499, dtype=torch.int32): tensor(1.0574),\n",
       " tensor(77460, dtype=torch.int32): tensor(1.0734)}"
      ]
     },
     "execution_count": 215,
     "metadata": {},
     "output_type": "execute_result"
    }
   ],
   "source": [
    "# The errors above the 1 percentile are found.\n",
    "list_of_molecules_QM9_U0 = {}\n",
    "#quant = torch.quantile(QM9_U0_AE,0.999)\n",
    "for index, error in zip(QM9_U0_test[\"index\"],QM9_U0_AE):\n",
    "    if error > 1:\n",
    "        list_of_molecules_QM9_U0[index] = error\n",
    "\n",
    "list_of_molecules_QM9_U0"
   ]
  },
  {
   "attachments": {},
   "cell_type": "markdown",
   "metadata": {},
   "source": [
    "These molecules are `O1C2C3C1C1N=C3OC21` and `OC1C2(O)CC(=O)C12O`."
   ]
  },
  {
   "attachments": {},
   "cell_type": "markdown",
   "metadata": {},
   "source": [
    "#### Visualization of results"
   ]
  },
  {
   "cell_type": "code",
   "execution_count": 71,
   "metadata": {},
   "outputs": [
    {
     "data": {
      "text/plain": [
       "tensor([2.8305e-05, 4.1073e-06, 1.9185e-05,  ..., 7.9445e-06, 1.6062e-05,\n",
       "        7.0395e-06])"
      ]
     },
     "execution_count": 71,
     "metadata": {},
     "output_type": "execute_result"
    }
   ],
   "source": [
    "PC9_E_res[:,1]"
   ]
  },
  {
   "cell_type": "code",
   "execution_count": null,
   "metadata": {},
   "outputs": [],
   "source": [
    "QM9_E_res[:,1]"
   ]
  },
  {
   "cell_type": "code",
   "execution_count": 112,
   "metadata": {},
   "outputs": [],
   "source": [
    "# Final data analysis is done without the outliers.\n",
    "PC9_E_res_short = PC9_E_res[PC9_E_AE < torch.quantile(PC9_E_AE,0.99),:]\n",
    "QM9_E_res_short = QM9_E_res[QM9_E_AE < torch.quantile(QM9_E_AE,0.99),:]\n",
    "QM9_U0_res_short = QM9_U0_res[QM9_U0_AE < torch.quantile(QM9_U0_AE,0.99),:]\n",
    "\n",
    "PC9EAEs = (PC9_E_res_short[:,0] - PC9_E_res_short[:,2]).abs()\n",
    "QM9EAEs = (QM9_E_res_short[:,0] - QM9_E_res_short[:,2]).abs()\n",
    "QM9EAU0s = (QM9_U0_res_short[:,0] - QM9_U0_res_short[:,2]).abs()"
   ]
  },
  {
   "cell_type": "code",
   "execution_count": 113,
   "metadata": {},
   "outputs": [
    {
     "data": {
      "text/plain": [
       "tensor(0.1591)"
      ]
     },
     "execution_count": 113,
     "metadata": {},
     "output_type": "execute_result"
    }
   ],
   "source": [
    "PC9EAEs.max()"
   ]
  },
  {
   "cell_type": "code",
   "execution_count": 195,
   "metadata": {},
   "outputs": [],
   "source": [
    "def data_to_bins(res):\n",
    "    min_var = res[:,1].min()\n",
    "    max_var = res[:,1].max()\n",
    "\n",
    "    bins = torch.linspace(min_var,max_var+1e-8,steps = 10) # 1e-8 added so the end point is included.\n",
    "    Mvar = torch.zeros(len(bins)-1)\n",
    "    MAEerror = torch.zeros(len(bins)-1)\n",
    "    #numVals = torch.zeros(len(bins)-1)\n",
    "    var = res[:,1]\n",
    "    errors = (res[:,0] - res[:,2]).abs()\n",
    "    #errors = (res[:,0] - res[:,2])\n",
    "\n",
    "    for i in range(0,len(bins)-1):\n",
    "        values = (var >= bins[i]) & (var < bins[i+1])\n",
    "        Mvar[i] = var[values].mean()\n",
    "        #Mvar[i] = var[values].mean().sqrt()\n",
    "        MAEerror[i] = errors[values].mean()\n",
    "        #MAEerror[i] = errors[values].pow(2).mean().sqrt()\n",
    "        #numVals[i] = values.long().sum()\n",
    "\n",
    "    # Drops NaN bins, i.e. empty bins.\n",
    "    Mvar = Mvar[~Mvar.isnan()]\n",
    "    MAEerror = MAEerror[~MAEerror.isnan()]\n",
    "    #numVals = numVals[~Mvar.isnan()]\n",
    "    \n",
    "    return Mvar, MAEerror#, numVals"
   ]
  },
  {
   "cell_type": "code",
   "execution_count": 202,
   "metadata": {},
   "outputs": [
    {
     "data": {
      "image/png": "[encoded data removed]",
      "text/plain": [
       "<Figure size 500x300 with 1 Axes>"
      ]
     },
     "metadata": {},
     "output_type": "display_data"
    }
   ],
   "source": [
    "import matplotlib.pyplot as plt\n",
    "plt.rcParams[\"figure.figsize\"] = (5,3)\n",
    "Mvar1, MAEerror1 = data_to_bins(QM9_E_res_short)\n",
    "plt.plot(Mvar1,MAEerror1)\n",
    "Mvar2, MAEerror2 = data_to_bins(PC9_E_res_short)\n",
    "plt.plot(Mvar2,MAEerror2)\n",
    "Mvar3, MAEerror3 = data_to_bins(QM9_U0_res_short)\n",
    "plt.plot(Mvar3,MAEerror3)\n",
    "plt.legend([\"QM9 E\",\"PC9 E\",\"QM9 U0\"])\n",
    "plt.xlabel(\"Variance\")\n",
    "plt.ylabel(\"MAE [eV]\")\n",
    "plt.tight_layout()\n",
    "#plt.savefig(\"graph.png\")\n",
    "plt.show()"
   ]
  },
  {
   "cell_type": "code",
   "execution_count": null,
   "metadata": {},
   "outputs": [],
   "source": []
  }
 ],
 "metadata": {
  "kernelspec": {
   "display_name": "dlproject",
   "language": "python",
   "name": "python3"
  },
  "language_info": {
   "codemirror_mode": {
    "name": "ipython",
    "version": 3
   },
   "file_extension": ".py",
   "mimetype": "text/x-python",
   "name": "python",
   "nbconvert_exporter": "python",
   "pygments_lexer": "ipython3",
   "version": "3.10.6 (main, Oct 24 2022, 16:07:47) [GCC 11.2.0]"
  },
  "orig_nbformat": 4,
  "vscode": {
   "interpreter": {
    "hash": "8490ee674c7f587afc9680b9c10f687e0fd9adf8002e8bd8e8dfa7edc153c41b"
   }
  }
 },
 "nbformat": 4,
 "nbformat_minor": 2
}
